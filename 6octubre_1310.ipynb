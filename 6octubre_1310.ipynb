{
  "nbformat": 4,
  "nbformat_minor": 0,
  "metadata": {
    "colab": {
      "name": "6octubre_1310.ipynb",
      "provenance": [],
      "authorship_tag": "ABX9TyP8etgTA2rMhJEYrwfyUHt+",
      "include_colab_link": true
    },
    "kernelspec": {
      "name": "python3",
      "display_name": "Python 3"
    }
  },
  "cells": [
    {
      "cell_type": "markdown",
      "metadata": {
        "id": "view-in-github",
        "colab_type": "text"
      },
      "source": [
        "<a href=\"https://colab.research.google.com/github/VictorAlva371/edd_1310_2021/blob/master/6octubre_1310.ipynb\" target=\"_parent\"><img src=\"https://colab.research.google.com/assets/colab-badge.svg\" alt=\"Open In Colab\"/></a>"
      ]
    },
    {
      "cell_type": "code",
      "metadata": {
        "id": "H9Lrj1_ly4Ub",
        "outputId": "4d7aa4c7-6d9c-4f81-8961-fcbc4fae1387",
        "colab": {
          "base_uri": "https://localhost:8080/",
          "height": 363
        }
      },
      "source": [
        "#Strings Continuación\n",
        "\n",
        "numeros_txt = \"   1, 2, 3, 4   , 5   , 35  , 15  ,12\"\n",
        "print(numeros_txt)\n",
        "numeros_txt = numeros_txt.lstrip().split(',')\n",
        "print(numeros_txt)\n",
        "\n",
        "for j in range(len(numeros_txt)):\n",
        "  numeros_txt[j] = int(numeros_txt[j].strip())\n",
        "\n",
        "print(numeros_txt)\n",
        "\n",
        "#Funcion range()\n",
        "\n",
        "#range(inicio,stop,incremento)\n",
        "print(range(1,10,3))\n",
        "rango = range(1,10,2)\n",
        "for x in rango:\n",
        "  print(x)\n",
        "\n",
        "rango = range(10)\n",
        "for x in rango:\n",
        "  print(x)"
      ],
      "execution_count": 71,
      "outputs": [
        {
          "output_type": "stream",
          "text": [
            "   1, 2, 3, 4   , 5   , 35  , 15  ,12\n",
            "['1', ' 2', ' 3', ' 4   ', ' 5   ', ' 35  ', ' 15  ', '12']\n",
            "[1, 2, 3, 4, 5, 35, 15, 12]\n",
            "range(1, 10, 3)\n",
            "1\n",
            "3\n",
            "5\n",
            "7\n",
            "9\n",
            "0\n",
            "1\n",
            "2\n",
            "3\n",
            "4\n",
            "5\n",
            "6\n",
            "7\n",
            "8\n",
            "9\n"
          ],
          "name": "stdout"
        }
      ]
    },
    {
      "cell_type": "markdown",
      "metadata": {
        "id": "8hT4W7DtKNiP"
      },
      "source": [
        "#listas\n",
        "- mutables\n",
        "- declaracion con [ ]\n",
        "- selector [ int ]\n",
        "\n",
        "#tuplas\n",
        "- NO mutables\n",
        "- Declaracion con ( )\n",
        "- selectos [ int ]\n",
        "\n",
        "#diccionario\n",
        "- Son mutables \n",
        "- Son conjunto de llave:valor\n",
        "- Equivalentes a los objetos JSON de JavaScritp\n",
        "\n",
        "#conjuntos\n",
        "- Representacion de la teoria de conjuntos"
      ]
    },
    {
      "cell_type": "code",
      "metadata": {
        "id": "1c9tW51GzCdb",
        "outputId": "73837b03-7ae3-4891-f10f-bede457dd1f7",
        "colab": {
          "base_uri": "https://localhost:8080/",
          "height": 145
        }
      },
      "source": [
        "#Listas (Equivalentes a arreglos en otros lenguajes de programación)\n",
        "frutas = [\"Pera\", \"Manzana\" , \"fresa\", \"Kiwi\", \"Naranja\"]\n",
        "print(frutas)\n",
        "cosas = [\"cuaderno\", 2, 3.1416, True, False, [\"Rojo\", \"Azul\"]]\n",
        "print(cosas)\n",
        "frutas[2] = \"Fresa\"    #frutas[2] = frutas[2].capitalize()\n",
        "print(\"frutas\")\n",
        "\n",
        "#Agregar a listas\n",
        "frutas.append(\"Aguacate\") #Agrega un elemento hasta el final de la lista\n",
        "print(frutas)\n",
        "\n",
        "frutas.insert(2,\"Sandia\") #Agrega un elemento en la posicion elegida\n",
        "print(frutas)\n",
        "\n",
        "fecha = [\"06\",\"10\",\"2020\"] # 06/10/2020\n",
        "print(fecha)\n",
        "fecha_str = \"/\".join(fecha)\n",
        "print(fecha_str)\n"
      ],
      "execution_count": 35,
      "outputs": [
        {
          "output_type": "stream",
          "text": [
            "['Pera', 'Manzana', 'fresa', 'Kiwi', 'Naranja']\n",
            "['cuaderno', 2, 3.1416, True, False, ['Rojo', 'Azul']]\n",
            "frutas\n",
            "['Pera', 'Manzana', 'Fresa', 'Kiwi', 'Naranja', 'Aguacate']\n",
            "['Pera', 'Manzana', 'Sandia', 'Fresa', 'Kiwi', 'Naranja', 'Aguacate']\n",
            "['06', '10', '2020']\n",
            "06/10/2020\n"
          ],
          "name": "stdout"
        }
      ]
    },
    {
      "cell_type": "code",
      "metadata": {
        "id": "fvpHf8uzMlEf",
        "outputId": "0cd1af8e-7dc8-4250-d1c7-9cd98ce0b0ec",
        "colab": {
          "base_uri": "https://localhost:8080/",
          "height": 199
        }
      },
      "source": [
        "#Eliminar elementos\n",
        "cosas = [\"cuaderno\", 2, 3.1416, True, False, [\"Rojo\", \"Azul\"]]\n",
        "print(cosas)\n",
        "cosas.append(\"Libro\")\n",
        "cosas.append(\"Lapiz\")\n",
        "print(cosas)\n",
        "algo = cosas.pop()\n",
        "print(cosas)\n",
        "print(algo)\n",
        "\n",
        "algo = cosas.pop(2) #Elimina el elemento de la posicion que se le indique \n",
        "print(cosas)\n",
        "print(algo)\n",
        "cosas.remove(2)\n",
        "print(cosas)\n",
        "\n",
        "#vaciar una lista\n",
        "\n",
        "#cosas.clear()\n",
        "print(cosas)\n",
        "\n",
        "#ordenar\n",
        "print(frutas)\n",
        "frutas.sort()\n",
        "print(frutas)\n"
      ],
      "execution_count": 45,
      "outputs": [
        {
          "output_type": "stream",
          "text": [
            "['cuaderno', 2, 3.1416, True, False, ['Rojo', 'Azul']]\n",
            "['cuaderno', 2, 3.1416, True, False, ['Rojo', 'Azul'], 'Libro', 'Lapiz']\n",
            "['cuaderno', 2, 3.1416, True, False, ['Rojo', 'Azul'], 'Libro']\n",
            "Lapiz\n",
            "['cuaderno', 2, True, False, ['Rojo', 'Azul'], 'Libro']\n",
            "3.1416\n",
            "['cuaderno', True, False, ['Rojo', 'Azul'], 'Libro']\n",
            "['cuaderno', True, False, ['Rojo', 'Azul'], 'Libro']\n",
            "['Aguacate', 'Fresa', 'Kiwi', 'Manzana', 'Naranja', 'Pera', 'Sandia']\n",
            "['Aguacate', 'Fresa', 'Kiwi', 'Manzana', 'Naranja', 'Pera', 'Sandia']\n"
          ],
          "name": "stdout"
        }
      ]
    },
    {
      "cell_type": "code",
      "metadata": {
        "id": "8CsxsWxFQsXB",
        "outputId": "37aa62c4-0f7c-495c-de23-3fa71a699c80",
        "colab": {
          "base_uri": "https://localhost:8080/",
          "height": 126
        }
      },
      "source": [
        "#slicing\n",
        "\n",
        "cosas = [\"cuaderno\", 2, 3.1416, True, False, [\"Rojo\", \"Azul\"]]\n",
        "print(cosas[3:5:1])\n",
        "print(cosas)\n",
        "print(cosas[0][3:5:1])\n",
        "\n",
        "numeros = [0,1,2,3,4,5,6,7,8,9,10,11,12,13,14,15]\n",
        "print(numeros[8:13:])\n",
        "\n",
        "#sustituir rebanadas -2,-2 --> [0,1,2,3,4,5,6,7,-2,-2,13,14,15]\n",
        "\n",
        "numeros [8:13:] = [-2,2]\n",
        "print(numeros)\n",
        "\n",
        "#preguntar por la existencia\n",
        "print(-2 in numeros)\n"
      ],
      "execution_count": 60,
      "outputs": [
        {
          "output_type": "stream",
          "text": [
            "[True, False]\n",
            "['cuaderno', 2, 3.1416, True, False, ['Rojo', 'Azul']]\n",
            "de\n",
            "[8, 9, 10, 11, 12]\n",
            "[0, 1, 2, 3, 4, 5, 6, 7, -2, 2, 13, 14, 15]\n",
            "True\n"
          ],
          "name": "stdout"
        }
      ]
    },
    {
      "cell_type": "markdown",
      "metadata": {
        "id": "FrFupLaLTQAY"
      },
      "source": [
        "#Listas Multi Dimensión\n",
        "\n",
        "listas dentro de listas"
      ]
    },
    {
      "cell_type": "code",
      "metadata": {
        "id": "YZVeH4T1AlxO",
        "outputId": "25cfad21-1137-4844-df80-d9b6798cf858",
        "colab": {
          "base_uri": "https://localhost:8080/",
          "height": 219
        }
      },
      "source": [
        "computadoras = [\"Hp\", \"Mac Book Pro 17\", \"Mate book\", \"Lenovo Legion\"]\n",
        "oss = [\"Windows 10\", \"Linux\", \"Android\", \"ios\"]\n",
        "\n",
        "computo = [computadoras, oss]\n",
        "print(computo[0])\n",
        "print(computo[1])\n",
        "print(computo[0][2])\n",
        "print(computo[0][2][0:5])\n",
        "print(computo[0][3][5: : -1])\n",
        "print(computo[0][3][-8: : -1])\n",
        "print(\"Linux\" in computo[1])\n",
        "dbms = [[\"Mysql\", \"Open Source\", False],[\"MS SQL Server\", \"de paga\", True]]\n",
        "computo.append(dbms)\n",
        "print(computo)\n",
        "print (computo[2][0][0])\n",
        "print(computo[2][1][1]) "
      ],
      "execution_count": 61,
      "outputs": [
        {
          "output_type": "stream",
          "text": [
            "['Hp', 'Mac Book Pro 17', 'Mate book', 'Lenovo Legion']\n",
            "['Windows 10', 'Linux', 'Android', 'ios']\n",
            "Mate book\n",
            "Mate \n",
            "ovoneL\n",
            "ovoneL\n",
            "True\n",
            "[['Hp', 'Mac Book Pro 17', 'Mate book', 'Lenovo Legion'], ['Windows 10', 'Linux', 'Android', 'ios'], [['Mysql', 'Open Source', False], ['MS SQL Server', 'de paga', True]]]\n",
            "Mysql\n",
            "de paga\n"
          ],
          "name": "stdout"
        }
      ]
    }
  ]
}