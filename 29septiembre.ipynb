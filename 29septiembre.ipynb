{
  "nbformat": 4,
  "nbformat_minor": 0,
  "metadata": {
    "colab": {
      "name": "29septiembre.ipynb",
      "provenance": [],
      "collapsed_sections": [],
      "authorship_tag": "ABX9TyMoZUpVoaiY8mK4J/XmGQ42",
      "include_colab_link": true
    },
    "kernelspec": {
      "name": "python3",
      "display_name": "Python 3"
    }
  },
  "cells": [
    {
      "cell_type": "markdown",
      "metadata": {
        "id": "view-in-github",
        "colab_type": "text"
      },
      "source": [
        "<a href=\"https://colab.research.google.com/github/VictorAlva371/edd_1310_2021/blob/master/29septiembre.ipynb\" target=\"_parent\"><img src=\"https://colab.research.google.com/assets/colab-badge.svg\" alt=\"Open In Colab\"/></a>"
      ]
    },
    {
      "cell_type": "code",
      "metadata": {
        "id": "snKOJWUoQLjf"
      },
      "source": [
        "edad = 19"
      ],
      "execution_count": 1,
      "outputs": []
    },
    {
      "cell_type": "code",
      "metadata": {
        "id": "TkV9XrZsQ0-f",
        "outputId": "116761c3-2e6b-4736-d6c2-9f2412290b8c",
        "colab": {
          "base_uri": "https://localhost:8080/",
          "height": 51
        }
      },
      "source": [
        "print (edad) \n",
        "colores = ['rojo','azul','verde','morado','violeta']\n",
        "print(colores)"
      ],
      "execution_count": 3,
      "outputs": [
        {
          "output_type": "stream",
          "text": [
            "19\n",
            "['rojo', 'azul', 'verde', 'morado', 'violeta']\n"
          ],
          "name": "stdout"
        }
      ]
    },
    {
      "cell_type": "code",
      "metadata": {
        "id": "BQxQBwsZRSif",
        "outputId": "8da79d13-f1e0-4b09-be1c-62a8c4fc09d6",
        "colab": {
          "base_uri": "https://localhost:8080/",
          "height": 34
        }
      },
      "source": [
        "print(colores[3])"
      ],
      "execution_count": 4,
      "outputs": [
        {
          "output_type": "stream",
          "text": [
            "morado\n"
          ],
          "name": "stdout"
        }
      ]
    },
    {
      "cell_type": "code",
      "metadata": {
        "id": "F0mZIA5NRevF",
        "outputId": "563f2e5a-f2d9-46d8-b443-f971b545efcc",
        "colab": {
          "base_uri": "https://localhost:8080/",
          "height": 68
        }
      },
      "source": [
        "#Solo mostrar la 'ra de morado \n",
        "print(colores[3][2:4])\n",
        "\n",
        "nombre = 'Victor'\n",
        "print(nombre[0]) \n",
        "print(nombre[0:3:1])"
      ],
      "execution_count": 7,
      "outputs": [
        {
          "output_type": "stream",
          "text": [
            "ra\n",
            "V\n",
            "Vic\n"
          ],
          "name": "stdout"
        }
      ]
    },
    {
      "cell_type": "markdown",
      "metadata": {
        "id": "FNn08K9QSBHn"
      },
      "source": [
        "# **For en Python 3**\n",
        "    1.- Rango (inicio,final,incremento)\n",
        "    2.- in(iterador)"
      ]
    },
    {
      "cell_type": "code",
      "metadata": {
        "id": "tC69llAVSap4",
        "outputId": "f52c0b86-ccfc-4c31-e30a-83200e9e2abf",
        "colab": {
          "base_uri": "https://localhost:8080/",
          "height": 102
        }
      },
      "source": [
        "for j in range(0,5,1):\n",
        "  print(colores[j])"
      ],
      "execution_count": 8,
      "outputs": [
        {
          "output_type": "stream",
          "text": [
            "rojo\n",
            "azul\n",
            "verde\n",
            "morado\n",
            "violeta\n"
          ],
          "name": "stdout"
        }
      ]
    },
    {
      "cell_type": "code",
      "metadata": {
        "id": "kILetVV7SjnO",
        "outputId": "571ec3ef-61a0-4a7c-dd5b-b68633e93d10",
        "colab": {
          "base_uri": "https://localhost:8080/",
          "height": 102
        }
      },
      "source": [
        "for color in colores:\n",
        "  print(color)"
      ],
      "execution_count": 9,
      "outputs": [
        {
          "output_type": "stream",
          "text": [
            "rojo\n",
            "azul\n",
            "verde\n",
            "morado\n",
            "violeta\n"
          ],
          "name": "stdout"
        }
      ]
    },
    {
      "cell_type": "code",
      "metadata": {
        "id": "M_3flhRBSsga",
        "outputId": "02881f49-45ac-4dd2-d8b6-512c2adca649",
        "colab": {
          "base_uri": "https://localhost:8080/",
          "height": 119
        }
      },
      "source": [
        "for j in range (0,len(nombre), 1):\n",
        "  print(nombre[j])"
      ],
      "execution_count": 11,
      "outputs": [
        {
          "output_type": "stream",
          "text": [
            "V\n",
            "i\n",
            "c\n",
            "t\n",
            "o\n",
            "r\n"
          ],
          "name": "stdout"
        }
      ]
    },
    {
      "cell_type": "code",
      "metadata": {
        "id": "FVwJlkt_S62V",
        "outputId": "e7ccae9f-17f5-458f-c628-2f3021919398",
        "colab": {
          "base_uri": "https://localhost:8080/",
          "height": 119
        }
      },
      "source": [
        "for nom in nombre:\n",
        "  print(nom)"
      ],
      "execution_count": 12,
      "outputs": [
        {
          "output_type": "stream",
          "text": [
            "V\n",
            "i\n",
            "c\n",
            "t\n",
            "o\n",
            "r\n"
          ],
          "name": "stdout"
        }
      ]
    },
    {
      "cell_type": "markdown",
      "metadata": {
        "id": "HZjuMQzLTDJD"
      },
      "source": [
        "# **¿Qué es Markdown?**\n",
        "\n",
        "Markdown es un lenguaje de marcado de documento código. El objetivo es simplificar la escritura en HTML.\n",
        "\n",
        "**Letras negritas**\n",
        "\n",
        "[Documentación acerca de Markdown](https://guides.github.com/features/mastering-markdown/)\n",
        "\n",
        "![Image of Yaktocat](https://octodex.github.com/images/yaktocat.png)"
      ]
    }
  ]
}