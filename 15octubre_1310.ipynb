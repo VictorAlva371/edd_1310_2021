{
  "nbformat": 4,
  "nbformat_minor": 0,
  "metadata": {
    "colab": {
      "name": "15octubre_1310.ipynb",
      "provenance": [],
      "authorship_tag": "ABX9TyOpqIAWCWRb9Uz4GR+8WKlI",
      "include_colab_link": true
    },
    "kernelspec": {
      "name": "python3",
      "display_name": "Python 3"
    }
  },
  "cells": [
    {
      "cell_type": "markdown",
      "metadata": {
        "id": "view-in-github",
        "colab_type": "text"
      },
      "source": [
        "<a href=\"https://colab.research.google.com/github/VictorAlva371/edd_1310_2021/blob/master/15octubre_1310.ipynb\" target=\"_parent\"><img src=\"https://colab.research.google.com/assets/colab-badge.svg\" alt=\"Open In Colab\"/></a>"
      ]
    },
    {
      "cell_type": "markdown",
      "metadata": {
        "id": "XYZkj4mkbB3m"
      },
      "source": [
        "# Módulos\n",
        "- Son recursos reutilizables que contienen varias funiones que pueden \n",
        "ser importantes a tu código."
      ]
    },
    {
      "cell_type": "code",
      "metadata": {
        "id": "vOT6FpTbbT-w",
        "outputId": "0acf219a-1edd-4de2-b777-107bac9de424",
        "colab": {
          "base_uri": "https://localhost:8080/",
          "height": 35
        }
      },
      "source": [
        "\"\"\"\"\n",
        "import mi_Modulo\n",
        "x = mi_Modulo.sumar(4, 7)\n",
        "\n",
        "print (x)\n",
        "\"\"\""
      ],
      "execution_count": 10,
      "outputs": [
        {
          "output_type": "stream",
          "text": [
            "11\n"
          ],
          "name": "stdout"
        }
      ]
    },
    {
      "cell_type": "code",
      "metadata": {
        "id": "8Wl0_eoPUZwE",
        "outputId": "451e85c4-bce2-4784-f95c-249d24c9474d",
        "colab": {
          "base_uri": "https://localhost:8080/",
          "height": 54
        }
      },
      "source": [
        "from mi_Modulo import sumar, dividir\n",
        "\n",
        "print(sumar(4,7))\n",
        "print(dividir(14,7))\n"
      ],
      "execution_count": 15,
      "outputs": [
        {
          "output_type": "stream",
          "text": [
            "11\n",
            "2.0\n"
          ],
          "name": "stdout"
        }
      ]
    },
    {
      "cell_type": "code",
      "metadata": {
        "id": "39jPUXyYeHsf",
        "outputId": "546667e2-0218-44b9-c726-d2afe8a16cd7",
        "colab": {
          "base_uri": "https://localhost:8080/",
          "height": 35
        }
      },
      "source": [
        "import mi_Modulo as alias\n",
        "\n",
        "print(alias.sumar(4,6))"
      ],
      "execution_count": 12,
      "outputs": [
        {
          "output_type": "stream",
          "text": [
            "10\n"
          ],
          "name": "stdout"
        }
      ]
    },
    {
      "cell_type": "code",
      "metadata": {
        "id": "wUaMvhCqfVno",
        "outputId": "e86e5968-5425-4891-bc82-7ead3257b2b4",
        "colab": {
          "base_uri": "https://localhost:8080/",
          "height": 54
        }
      },
      "source": [
        "#pip install joke-generator\n",
        "from joke_generator import generate\n",
        "generate()"
      ],
      "execution_count": 17,
      "outputs": [
        {
          "output_type": "execute_result",
          "data": {
            "application/vnd.google.colaboratory.intrinsic+json": {
              "type": "string"
            },
            "text/plain": [
              "'Two muffins were sitting in an oven, and the first looks over to the second, and says, “man, it’s really hot in here”. The second looks over at the first with a surprised look, and answers, “WHOA, a talking muffin!”'"
            ]
          },
          "metadata": {
            "tags": []
          },
          "execution_count": 17
        }
      ]
    },
    {
      "cell_type": "markdown",
      "metadata": {
        "id": "H5_1gQCGfzpL"
      },
      "source": [
        "# Archivos \n",
        "- Open (str, str)\n",
        "  1. Nombre o ruta del archivo \n",
        "  1. dos caracteres\n",
        "    - modo de apertura del archivo (r, w, a append si y solo si el archivo existe, x append si y solo si el archivo no existe)\n",
        "    - Formato del archivo (texto o binario)"
      ]
    },
    {
      "cell_type": "code",
      "metadata": {
        "id": "F3NihHk0UZKC"
      },
      "source": [
        "archivo = open(\"saludo.txt\", \"wt\")\n",
        "archivo.write(\"Hola mundo \\n ola ke azhe\" )\n",
        "archivo.close()"
      ],
      "execution_count": 3,
      "outputs": []
    },
    {
      "cell_type": "code",
      "metadata": {
        "id": "tSwsjYYCVMWT",
        "outputId": "62efc09a-16df-4dbd-d1ec-51b92207d2bc",
        "colab": {
          "base_uri": "https://localhost:8080/",
          "height": 163
        }
      },
      "source": [
        "otro = open('./sample_data/anscombe.json','rt')\n",
        "datos = otro.read()\n",
        "#print(datos)\n",
        "otro.close()\n",
        "\n",
        "arch = open('frutas.txt', 'rt')\n",
        "data = 'p'\n",
        "while (data != ''):\n",
        "  data = arch.readline()\n",
        "  print(data)\n",
        "arch.close()\n",
        "\n",
        "arch = open('frutas.txt', 'rt')\n",
        "list_frutas = arch.readlines()\n",
        "print(list_frutas)\n",
        "arch.close()"
      ],
      "execution_count": 9,
      "outputs": [
        {
          "output_type": "stream",
          "text": [
            "manzana, pera, kiwi, aguacate\n",
            "\n",
            "limon, naranja\n",
            "\n",
            "sandia, papaya\n",
            "\n",
            "\n",
            "['manzana, pera, kiwi, aguacate\\n', 'limon, naranja\\n', 'sandia, papaya\\n']\n"
          ],
          "name": "stdout"
        }
      ]
    }
  ]
}