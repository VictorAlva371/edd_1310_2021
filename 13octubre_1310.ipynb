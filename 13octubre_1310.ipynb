{
  "nbformat": 4,
  "nbformat_minor": 0,
  "metadata": {
    "colab": {
      "name": "13octubre_1310.ipynb",
      "provenance": [],
      "authorship_tag": "ABX9TyMPm3R6/tCRVIeW8ml/Qbw0",
      "include_colab_link": true
    },
    "kernelspec": {
      "name": "python3",
      "display_name": "Python 3"
    }
  },
  "cells": [
    {
      "cell_type": "markdown",
      "metadata": {
        "id": "view-in-github",
        "colab_type": "text"
      },
      "source": [
        "<a href=\"https://colab.research.google.com/github/VictorAlva371/edd_1310_2021/blob/master/13octubre_1310.ipynb\" target=\"_parent\"><img src=\"https://colab.research.google.com/assets/colab-badge.svg\" alt=\"Open In Colab\"/></a>"
      ]
    },
    {
      "cell_type": "code",
      "metadata": {
        "id": "CbGXEJgnuo8c",
        "outputId": "1e7bc974-2396-4fd8-a821-d0087ce02050",
        "colab": {
          "base_uri": "https://localhost:8080/",
          "height": 110
        }
      },
      "source": [
        "alumno = { \n",
        "          \"num_cta\" : 303030303 ,\n",
        "          \"carrera\" : \"ICO\",\n",
        "          \"promedio\" : 9.8,\n",
        "          \"materias\" :[\"EDD\",\"CyP\",\"Calidad\",\"Emprendimiento\"],\n",
        "          \"direccion\" : { \n",
        "                            \"calle\":\"rancho seco\",\n",
        "                            \"numero\" : 23 ,\n",
        "                            \"delegacion\" : \"Neza\",\n",
        "                            \"estado\" : {\n",
        "                                        \"id\" : 15 ,\n",
        "                                        \"nombre\" : \"Estado de Máxico\" ,\n",
        "                                        \"nombre_corto\" : \"EdoMex\"\n",
        "                                        } ,\n",
        "                            \"CP\":57170\n",
        "\n",
        "                        } \n",
        "          }\n",
        "print(alumno)\n",
        "alumno['carrera'] = \"Ingeniería en Computación\"\n",
        "print(alumno)\n",
        "alumno['nombre_completo'] = {'primer':\"Victor\",\n",
        "                             'segundo':\"Emmanuel\",\n",
        "                             'paterno':\"Alva\",\n",
        "                             'materno':\"Caxnajoy\"\n",
        "                             }\n",
        "alumno['semestre']=3\n",
        "print(alumno)\n",
        "\n",
        "print(f\"{alumno['nombre_completo']['primer']} {alumno['nombre_completo']['segundo']}\")"
      ],
      "execution_count": 7,
      "outputs": [
        {
          "output_type": "stream",
          "text": [
            "{'num_cta': 303030303, 'carrera': 'ICO', 'promedio': 9.8, 'materias': ['EDD', 'CyP', 'Calidad', 'Emprendimiento'], 'direccion': {'calle': 'rancho seco', 'numero': 23, 'delegacion': 'Neza', 'estado': {'id': 15, 'nombre': 'Estado de Máxico', 'nombre_corto': 'EdoMex'}, 'CP': 57170}}\n",
            "{'num_cta': 303030303, 'carrera': 'Ingeniería en Computación', 'promedio': 9.8, 'materias': ['EDD', 'CyP', 'Calidad', 'Emprendimiento'], 'direccion': {'calle': 'rancho seco', 'numero': 23, 'delegacion': 'Neza', 'estado': {'id': 15, 'nombre': 'Estado de Máxico', 'nombre_corto': 'EdoMex'}, 'CP': 57170}}\n",
            "{'num_cta': 303030303, 'carrera': 'Ingeniería en Computación', 'promedio': 9.8, 'materias': ['EDD', 'CyP', 'Calidad', 'Emprendimiento'], 'direccion': {'calle': 'rancho seco', 'numero': 23, 'delegacion': 'Neza', 'estado': {'id': 15, 'nombre': 'Estado de Máxico', 'nombre_corto': 'EdoMex'}, 'CP': 57170}, 'nombre_completo': {'primer': 'Victor', 'segundo': 'Emmanuel', 'paterno': 'Alva', 'materno': 'Caxnajoy'}, 'semestre': 3}\n",
            "Victor Emmanuel\n"
          ],
          "name": "stdout"
        }
      ]
    },
    {
      "cell_type": "code",
      "metadata": {
        "id": "PmRhfW2Fx9-X"
      },
      "source": [
        "help(dict)"
      ],
      "execution_count": null,
      "outputs": []
    },
    {
      "cell_type": "code",
      "metadata": {
        "id": "K-OU6fBFyXb3",
        "outputId": "cacd35be-d9eb-4117-8a67-ff2864876bcf",
        "colab": {
          "base_uri": "https://localhost:8080/",
          "height": 455
        }
      },
      "source": [
        "#key(), values() y items()\n",
        "\n",
        "llaves = alumno.keys()\n",
        "print(llaves)\n",
        "\n",
        "for llave in llaves:\n",
        "  print(llave.upper())\n",
        "\n",
        "valores = alumno.values()\n",
        "for val in valores:\n",
        "  print (val)\n",
        "\n",
        "pares = alumno.items()\n",
        "print(pares)\n",
        "for elem in pares:\n",
        "  print(f\"el campo {elem[0]} tiene el valor {elem[1]}\")"
      ],
      "execution_count": 26,
      "outputs": [
        {
          "output_type": "stream",
          "text": [
            "dict_keys(['num_cta', 'carrera', 'promedio', 'materias', 'direccion', 'nombre_completo', 'semestre'])\n",
            "NUM_CTA\n",
            "CARRERA\n",
            "PROMEDIO\n",
            "MATERIAS\n",
            "DIRECCION\n",
            "NOMBRE_COMPLETO\n",
            "SEMESTRE\n",
            "303030303\n",
            "Ingeniería en Computación\n",
            "9.8\n",
            "['EDD', 'CyP', 'Calidad', 'Emprendimiento']\n",
            "{'calle': 'rancho seco', 'numero': 23, 'delegacion': 'Neza', 'estado': {'id': 15, 'nombre': 'Estado de Máxico', 'nombre_corto': 'EdoMex'}, 'CP': 57170}\n",
            "{'primer': 'Victor', 'segundo': 'Emmanuel', 'paterno': 'Alva', 'materno': 'Caxnajoy'}\n",
            "3\n",
            "dict_items([('num_cta', 303030303), ('carrera', 'Ingeniería en Computación'), ('promedio', 9.8), ('materias', ['EDD', 'CyP', 'Calidad', 'Emprendimiento']), ('direccion', {'calle': 'rancho seco', 'numero': 23, 'delegacion': 'Neza', 'estado': {'id': 15, 'nombre': 'Estado de Máxico', 'nombre_corto': 'EdoMex'}, 'CP': 57170}), ('nombre_completo', {'primer': 'Victor', 'segundo': 'Emmanuel', 'paterno': 'Alva', 'materno': 'Caxnajoy'}), ('semestre', 3)])\n",
            "el campo num_cta tiene el valor 303030303\n",
            "el campo carrera tiene el valor Ingeniería en Computación\n",
            "el campo promedio tiene el valor 9.8\n",
            "el campo materias tiene el valor ['EDD', 'CyP', 'Calidad', 'Emprendimiento']\n",
            "el campo direccion tiene el valor {'calle': 'rancho seco', 'numero': 23, 'delegacion': 'Neza', 'estado': {'id': 15, 'nombre': 'Estado de Máxico', 'nombre_corto': 'EdoMex'}, 'CP': 57170}\n",
            "el campo nombre_completo tiene el valor {'primer': 'Victor', 'segundo': 'Emmanuel', 'paterno': 'Alva', 'materno': 'Caxnajoy'}\n",
            "el campo semestre tiene el valor 3\n"
          ],
          "name": "stdout"
        }
      ]
    },
    {
      "cell_type": "code",
      "metadata": {
        "id": "8JmzoEvLGi4V",
        "outputId": "c3c0ec11-e569-4ed6-c0bc-889ec53a8738",
        "colab": {
          "base_uri": "https://localhost:8080/",
          "height": 35
        }
      },
      "source": [
        "computadora = {\"Procesador\":\"Intel i7\", \"ram\":\"Kingston 128GB\"}\n",
        "otros = {\"monitor\": \"LG 49\\\"\", \"hd\":\"Toshiba 1TB\"}\n",
        "computadora.update(otros)\n",
        "print(computadora)"
      ],
      "execution_count": 27,
      "outputs": [
        {
          "output_type": "stream",
          "text": [
            "{'Procesador': 'Intel i7', 'ram': 'Kingston 128GB', 'monitor': 'LG 49\"', 'hd': 'Toshiba 1TB'}\n"
          ],
          "name": "stdout"
        }
      ]
    },
    {
      "cell_type": "markdown",
      "metadata": {
        "id": "5AC1EXtcHu9C"
      },
      "source": [
        "# Funciones (modularidad)\n",
        "- Unidades de código reutilizable \n",
        "- Es un mecanismo de organización de código \n",
        "- Una función toma de 0 a n parametros de entrada\n",
        "- Tiene una sola salida (return) de cualquier tipo de dato\n",
        "- Solo puede hacer dos cosas:\n",
        "  - definirla\n",
        "  - llamarla\n",
        "- Se define con la palabra 'def'"
      ]
    },
    {
      "cell_type": "code",
      "metadata": {
        "id": "HN4w3Sta5E4Y",
        "outputId": "5898565f-3f16-4082-e637-8e0830ebb85d",
        "colab": {
          "base_uri": "https://localhost:8080/",
          "height": 199
        }
      },
      "source": [
        "def sumar(x, y):\n",
        "  resultado = x + y\n",
        "  return resultado\n",
        "\n",
        "def saludar(nombre):\n",
        "  print(f\"Hola {nombre}, ¿Cómo estas?\")\n",
        "\n",
        "#Procesar None\n",
        "def multiplicar (valor, veces):\n",
        "  if valor != None:\n",
        "    c = valor * veces\n",
        "  else:\n",
        "    c = \"Operación no válida\"\n",
        "  return c\n",
        "\n",
        "def operacion (a, b, c):\n",
        "  res = a + (b / c)\n",
        "  return res\n",
        "\n",
        "print(sumar(10,5))\n",
        "print(sumar(2,6))\n",
        "c = sumar(3,7)\n",
        "saludar(\"Victor\")\n",
        "print(saludar('Jose'))\n",
        "print(multiplicar(5,6))\n",
        "print(multiplicar(None,6))\n",
        "\n",
        "print(operacion(2,9,3))\n",
        "print(operacion(2,3,9))\n",
        "\n",
        "print(operacion(a=2,c=3,b=9))"
      ],
      "execution_count": 16,
      "outputs": [
        {
          "output_type": "stream",
          "text": [
            "15\n",
            "8\n",
            "Hola Victor, ¿Cómo estas?\n",
            "Hola Jose, ¿Cómo estas?\n",
            "None\n",
            "30\n",
            "Operación no válida\n",
            "5.0\n",
            "2.3333333333333335\n",
            "5.0\n"
          ],
          "name": "stdout"
        }
      ]
    },
    {
      "cell_type": "code",
      "metadata": {
        "id": "SXBH5OHf-kAT",
        "outputId": "a13d0843-456c-4ac9-e6e4-3811a6ec0b9b",
        "colab": {
          "base_uri": "https://localhost:8080/",
          "height": 254
        }
      },
      "source": [
        "#Valores por defecto\n",
        "def comanda(primer, fuerte, postre = \"Galleta de animalito\"):\n",
        "  print(f\"De entrada pidio: {primer}\")\n",
        "  print(f\"De plato fuerte: {fuerte}\")\n",
        "  print(f\"Postre: {postre}\")\n",
        "\n",
        "#Argumentos posicionales con tuplas *\n",
        "def comanda_2(*opciones):\n",
        "  print(opciones)\n",
        "  print(f\"De entrada pidio: {opciones[0]}\")\n",
        "  print(f\"De plato fuerte: {opciones[1]}\")\n",
        "  print(f\"Postre: {opciones[2]}\")\n",
        "  \n",
        "  print(\"\\n Indicaciones extra: \")\n",
        "  for ind in opciones[3::]:\n",
        "    print(f\"\\t {ind}\")\n",
        "\n",
        "\n",
        "comanda(\"Sopa aguada\", \"Torta de papa\", \"Gelatina de limon\")\n",
        "comanda(\"Sopa aguada\", \"Torta de papa\")\n",
        "comanda_2(\"Sopa aguada\", \"Tortas de papa\", \"Gelatina de limon\", \"las tortas bien doradas, traer dos limones\")\n"
      ],
      "execution_count": 22,
      "outputs": [
        {
          "output_type": "stream",
          "text": [
            "De entrada pidio: Sopa aguada\n",
            "De plato fuerte: Torta de papa\n",
            "Postre: Gelatina de limon\n",
            "De entrada pidio: Sopa aguada\n",
            "De plato fuerte: Torta de papa\n",
            "Postre: Galleta de animalito\n",
            "('Sopa aguada', 'Tortas de papa', 'Gelatina de limon', 'las tortas bien doradas, traer dos limones')\n",
            "De entrada pidio: Sopa aguada\n",
            "De plato fuerte: Tortas de papa\n",
            "Postre: Gelatina de limon\n",
            "\n",
            "indicaciones extra: \n",
            "\t las tortas bien doradas, traer dos limones\n"
          ],
          "name": "stdout"
        }
      ]
    },
    {
      "cell_type": "code",
      "metadata": {
        "id": "r7cgVPjBB75Z",
        "outputId": "b15e69da-2487-42e8-f2e5-4e352a2d2929",
        "colab": {
          "base_uri": "https://localhost:8080/",
          "height": 165
        }
      },
      "source": [
        "#Argumentos posicionales con diccionario **\n",
        "def comanda_3(**opciones):\n",
        "  print(opciones)\n",
        "  for op in opciones.items():\n",
        "    print(f\"{op[0]} -> {op[1]}\")\n",
        "comanda_3(primer = \"Sopa aguada\", fuerte = \"Tortas de papa\", postre = \"Gelatina de limon\", extra = \"las tortas bien doradas\", extra2 = \"traer dos limones\", extra3 = \"agua con hielo\")\n"
      ],
      "execution_count": 25,
      "outputs": [
        {
          "output_type": "stream",
          "text": [
            "{'primer': 'Sopa aguada', 'fuerte': 'Tortas de papa', 'postre': 'Gelatina de limon', 'extra': 'las tortas bien doradas', 'extra2': 'traer dos limones', 'extra3': 'agua con hielo'}\n",
            "primer -> Sopa aguada\n",
            "fuerte -> Tortas de papa\n",
            "postre -> Gelatina de limon\n",
            "extra -> las tortas bien doradas\n",
            "extra2 -> traer dos limones\n",
            "extra3 -> agua con hielo\n"
          ],
          "name": "stdout"
        }
      ]
    }
  ]
}