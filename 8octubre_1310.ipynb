{
  "nbformat": 4,
  "nbformat_minor": 0,
  "metadata": {
    "colab": {
      "name": "8octubre_1310.ipynb",
      "provenance": [],
      "authorship_tag": "ABX9TyM9ABbnq1zg+aiVNYcxw7oo",
      "include_colab_link": true
    },
    "kernelspec": {
      "name": "python3",
      "display_name": "Python 3"
    }
  },
  "cells": [
    {
      "cell_type": "markdown",
      "metadata": {
        "id": "view-in-github",
        "colab_type": "text"
      },
      "source": [
        "<a href=\"https://colab.research.google.com/github/VictorAlva371/edd_1310_2021/blob/master/8octubre_1310.ipynb\" target=\"_parent\"><img src=\"https://colab.research.google.com/assets/colab-badge.svg\" alt=\"Open In Colab\"/></a>"
      ]
    },
    {
      "cell_type": "code",
      "metadata": {
        "id": "phV90SZS7Moo",
        "outputId": "d4f45da1-1136-4f78-dd00-1d921cda6079",
        "colab": {
          "base_uri": "https://localhost:8080/",
          "height": 183
        }
      },
      "source": [
        "#listas multi dimension \n",
        "monitores =[[\"Samsung\",\"17.3 \\\"\",1024],[\"BenQ\",\"40\\\"\",2048]]\n",
        "procesadores = [[\"Intel\",\"i7\",3.4],[\"AMD\",\"razzer\",3.3],[\"Intel\",\"i3\",3.1]]\n",
        "memorias = [[\"Kingston\", \"8GB\",\"DDR4\"],[\"Kingston\", \"16GB\",\"DDR3\"],[\"ADATA\", \"32GB\",\"DDR4\"]]\n",
        "\n",
        "componentes = [monitores,procesadores,memorias]\n",
        "\n",
        "print(componentes)\n",
        "print(componentes[1][2][1]) #pinta el i3 de la lista de procesadores\n",
        "print(componentes[1][2][1][-1:-3:-1]) #i3 pero al reves 3i\n",
        "print(componentes[1]) #pinta el arreglo de procesadores\n",
        "print(componentes[2][1][1]) #pinta el 16 GB de memorias\n",
        "print(int(componentes[0][1][2]) * 2) #calcula el doble de la resolucion del tercer monitor (2048 * 2)\n",
        "print(componentes[1][1][1][1:4:1]) #pinta el azz de Razzen de la lista de procesadores\n",
        "print((componentes[2][2][0]).lower()) #Vuelve minusculas el 'ADATA'"
      ],
      "execution_count": 22,
      "outputs": [
        {
          "output_type": "stream",
          "text": [
            "[[['Samsung', '17.3 \"', 1024], ['BenQ', '40\"', 2048]], [['Intel', 'i7', 3.4], ['AMD', 'razzer', 3.3], ['Intel', 'i3', 3.1]], [['Kingston', '8GB', 'DDR4'], ['Kingston', '16GB', 'DDR3'], ['ADATA', '32GB', 'DDR4']]]\n",
            "i3\n",
            "3i\n",
            "[['Intel', 'i7', 3.4], ['AMD', 'razzer', 3.3], ['Intel', 'i3', 3.1]]\n",
            "16GB\n",
            "4096\n",
            "azz\n",
            "adata\n"
          ],
          "name": "stdout"
        }
      ]
    },
    {
      "cell_type": "code",
      "metadata": {
        "id": "tFuuIRyrI453",
        "outputId": "b1e7ae51-aeb3-48cf-acdc-1abd7415b2ed",
        "colab": {
          "base_uri": "https://localhost:8080/",
          "height": 145
        }
      },
      "source": [
        "#copiar listas\n",
        "#extender listas\n",
        "frutas = [\"manzana\", \"pera\"]\n",
        "otras_frutas = [\"aguacate\", \"sandia\"]\n",
        "\n",
        "#+ sobre lineas\n",
        "#frutas = frutas + otras_frutas\n",
        "#print(frutas)\n",
        "\n",
        "#funcion extends()\n",
        "#frutas.append(otras_frutas)\n",
        "#print(frutas)\n",
        "\n",
        "#frutas.append(otras_frutas)\n",
        "#print(frutas)\n",
        "\n",
        "\n",
        "#copiar \n",
        "colores = [\"azul\", \"rojo\", \"verde\", \"violeta\"]\n",
        "otros_colores = colores\n",
        "print(colores)\n",
        "print(otros_colores)\n",
        "otros_colores.append(\"rosa\")\n",
        "print(colores)\n",
        "print(otros_colores)\n",
        "\n",
        "una_mas = colores.copy()\n",
        "una_mas.append(\"Purpura\")\n",
        "print(una_mas)\n",
        "print(colores)\n",
        "\n",
        "#unpacking de listas\n",
        "alumno = [\"Jesus\", \"Perez\", \"Herrera\", 22, \"ICO\", 10.0]\n",
        "#nombre = alumno [0]\n",
        "#paterno = alumno[1]\n",
        "#etc.\n",
        "\n",
        "nombre, paterno, materno, edad, carrera, promedio = alumno \n",
        "print(f\"Alumno: {nombre} Carrera: {carrera} Promedio: {promedio}\")"
      ],
      "execution_count": 36,
      "outputs": [
        {
          "output_type": "stream",
          "text": [
            "['azul', 'rojo', 'verde', 'violeta']\n",
            "['azul', 'rojo', 'verde', 'violeta']\n",
            "['azul', 'rojo', 'verde', 'violeta', 'rosa']\n",
            "['azul', 'rojo', 'verde', 'violeta', 'rosa']\n",
            "['azul', 'rojo', 'verde', 'violeta', 'rosa', 'Purpura']\n",
            "['azul', 'rojo', 'verde', 'violeta', 'rosa']\n",
            "Alumno: Jesus Carrera: ICO Promedio: 10.0\n"
          ],
          "name": "stdout"
        }
      ]
    },
    {
      "cell_type": "markdown",
      "metadata": {
        "id": "qFYErDCzR2aY"
      },
      "source": [
        "#Tuplas\n",
        "- Se declaran con ( )\n",
        "- Seletor con [ ]\n",
        "- NO son mutables\n"
      ]
    },
    {
      "cell_type": "code",
      "metadata": {
        "id": "oBCa4g9KSOCl",
        "outputId": "dbefee4e-0b41-4bff-bffa-0d8fbc454750",
        "colab": {
          "base_uri": "https://localhost:8080/",
          "height": 72
        }
      },
      "source": [
        "#Lista de valores constantes.\n",
        "precios = (99.9, 49.90, 12.45, 23.8, 33.4, 55.66)\n",
        "print(precios[1])\n",
        "#precios[1] = 50.0 --> No son mutables\n",
        "print(precios)\n",
        "print(precios[2:4])"
      ],
      "execution_count": 41,
      "outputs": [
        {
          "output_type": "stream",
          "text": [
            "49.9\n",
            "(99.9, 49.9, 12.45, 23.8, 33.4, 55.66)\n",
            "(12.45, 23.8)\n"
          ],
          "name": "stdout"
        }
      ]
    },
    {
      "cell_type": "markdown",
      "metadata": {
        "id": "WXlTftYmTjte"
      },
      "source": [
        "#Diccionarios\n",
        "- Se declara con llaves\n",
        "- Si son mutables\n",
        "- Son conjuntos de pares llave:valor\n",
        "- equivalente a los objetos JSON de Javascritp\n",
        "- Selector [str]"
      ]
    },
    {
      "cell_type": "code",
      "metadata": {
        "id": "GYgHMLJbT1Zr",
        "outputId": "e072acbc-f2ca-471a-d680-d8d44e41a3fb",
        "colab": {
          "base_uri": "https://localhost:8080/",
          "height": 146
        }
      },
      "source": [
        "cliente = {}\n",
        "print(cliente)\n",
        "alumno = {\"numero_cuenta\" : 317226748}\n",
        "print(alumno)\n",
        "\n",
        "alumno = {\n",
        "          \"numero_cuenta\" : 317226748, \n",
        "          \"Carrera\" : \"ICO\",\n",
        "          \"Promedio\" : 10.0,\n",
        "          \"Materia\" : [\"EDD\", \"CyP\", \"Calidad\", \"Emprendimiento\"],\n",
        "          \"Dirección\" : {\n",
        "                          \"Calle\" : \"Rancho Seco\",\n",
        "                          \"Numero\" : 23,\n",
        "                          \"Delegacón\" : \"Neza\",\n",
        "                          \"Estado\" : {\n",
        "                                       \"ID\" : 15, \n",
        "                                       \"nombre\" : \"Estado de Mexico\",\n",
        "                                       \"nombre corto\" : \"Edo. Mex\"\n",
        "                                      },\n",
        "                         \"Codigo Postal\" : \"54321\"\n",
        "                        }\n",
        "          }\n",
        "print(alumno)\n",
        "print(alumno['Materia'])\n",
        "print(alumno ['Promedio'])\n",
        "print(alumno['Dirección']['Estado']['nombre corto'])"
      ],
      "execution_count": 51,
      "outputs": [
        {
          "output_type": "stream",
          "text": [
            "{}\n",
            "{'numero_cuenta': 317226748}\n",
            "{'numero_cuenta': 317226748, 'Carrera': 'ICO', 'Promedio': 10.0, 'Materia': ['EDD', 'CyP', 'Calidad', 'Emprendimiento'], 'Dirección': {'Calle': 'Rancho Seco', 'Numero': 23, 'Delegacón': 'Neza', 'Estado': {'ID': 15, 'nombre': 'Estado de Mexico', 'nombre corto': 'Edo. Mex'}, 'Codigo Postal': '54321'}}\n",
            "['EDD', 'CyP', 'Calidad', 'Emprendimiento']\n",
            "10.0\n",
            "Edo. Mex\n"
          ],
          "name": "stdout"
        }
      ]
    }
  ]
}