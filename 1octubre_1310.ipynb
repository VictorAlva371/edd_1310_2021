{
  "nbformat": 4,
  "nbformat_minor": 0,
  "metadata": {
    "colab": {
      "name": "1octubre_1310.ipynb",
      "provenance": [],
      "collapsed_sections": [],
      "authorship_tag": "ABX9TyMSHzposTX0tYgH1FAb+fme",
      "include_colab_link": true
    },
    "kernelspec": {
      "name": "python3",
      "display_name": "Python 3"
    }
  },
  "cells": [
    {
      "cell_type": "markdown",
      "metadata": {
        "id": "view-in-github",
        "colab_type": "text"
      },
      "source": [
        "<a href=\"https://colab.research.google.com/github/VictorAlva371/edd_1310_2021/blob/master/1octubre_1310.ipynb\" target=\"_parent\"><img src=\"https://colab.research.google.com/assets/colab-badge.svg\" alt=\"Open In Colab\"/></a>"
      ]
    },
    {
      "cell_type": "markdown",
      "metadata": {
        "id": "RsmlXU_B7tV7"
      },
      "source": [
        "## Intro Python 3\n",
        "### Variables\n",
        "tipo dinamico \n",
        "escuela = \"FES Aragón\"\n",
        " "
      ]
    },
    {
      "cell_type": "code",
      "metadata": {
        "id": "fq5EsdKW8BKK",
        "outputId": "3f63e2c3-cd7c-48c1-c5d9-f1c8a2f04bbd",
        "colab": {
          "base_uri": "https://localhost:8080/",
          "height": 153
        }
      },
      "source": [
        "escuela = \"FES Aragón\"\n",
        "print(escuela)\n",
        "print(\"=========\") \n",
        "edad = 19\n",
        "estatura = 1.67\n",
        "fumador = True\n",
        "frase = \"\"\"\n",
        "Esta es una \n",
        "frase de multiples \n",
        "lineas y tambien es \n",
        "un tipo de dato\n",
        "\"\"\"\n",
        "print(frase)\n",
        "nombre = 'Victor'\n",
        "nombreCompleto = \"victor Alva\""
      ],
      "execution_count": 31,
      "outputs": [
        {
          "output_type": "stream",
          "text": [
            "FES Aragón\n",
            "=========\n",
            "\n",
            "Esta es una \n",
            "frase de multiples \n",
            "lineas y tambien es \n",
            "un tipo de dato\n",
            "\n"
          ],
          "name": "stdout"
        }
      ]
    },
    {
      "cell_type": "markdown",
      "metadata": {
        "id": "gtpDXCfB93Lz"
      },
      "source": [
        "# Print \n",
        "\n",
        "con comas ,\n",
        "\n",
        "con un signo +\n",
        "\n",
        "con format()\n",
        "\n",
        "con el operador f"
      ]
    },
    {
      "cell_type": "code",
      "metadata": {
        "id": "CBjlTFNV-FBp",
        "outputId": "20d19ebd-1d9e-43c6-f9ca-5867839ac069",
        "colab": {
          "base_uri": "https://localhost:8080/",
          "height": 34
        }
      },
      "source": [
        "# la coma genera un espacion entre las variables.\n",
        "print (nombre, edad)"
      ],
      "execution_count": 32,
      "outputs": [
        {
          "output_type": "stream",
          "text": [
            "Victor 19\n"
          ],
          "name": "stdout"
        }
      ]
    },
    {
      "cell_type": "code",
      "metadata": {
        "id": "d0aJzRUW_EbD",
        "outputId": "d50ee643-36f0-407a-dc51-e23decae23a6",
        "colab": {
          "base_uri": "https://localhost:8080/",
          "height": 51
        }
      },
      "source": [
        "# + concatenacion \n",
        "print (nombre + str(edad))\n",
        "print(nombre + nombreCompleto)"
      ],
      "execution_count": 33,
      "outputs": [
        {
          "output_type": "stream",
          "text": [
            "Victor19\n",
            "Victorvictor Alva\n"
          ],
          "name": "stdout"
        }
      ]
    },
    {
      "cell_type": "code",
      "metadata": {
        "id": "AfLy3_hNALh5",
        "outputId": "87f572a4-81f1-46c2-c807-e9ef98be2836",
        "colab": {
          "base_uri": "https://localhost:8080/",
          "height": 68
        }
      },
      "source": [
        "#Con formato -> Nombre: Victor y su edad es 19 años.\n",
        "\n",
        "print(\"Su nombre es\", nombre, \"y su edad es de:\", edad, \"años\")\n",
        "print(\"Su nombre es {0} y su edad es de {1} años\".format(nombre,edad) )\n",
        "print(\"Su nombre es {1} y su edad es de {0} años\".format(nombre,edad) )"
      ],
      "execution_count": 34,
      "outputs": [
        {
          "output_type": "stream",
          "text": [
            "Su nombre es Victor y su edad es de: 19 años\n",
            "Su nombre es Victor y su edad es de 19 años\n",
            "Su nombre es 19 y su edad es de Victor años\n"
          ],
          "name": "stdout"
        }
      ]
    },
    {
      "cell_type": "code",
      "metadata": {
        "id": "nR7uXDCeB9ko",
        "outputId": "150e3b5a-390d-4a2b-df93-bb013f33348a",
        "colab": {
          "base_uri": "https://localhost:8080/",
          "height": 34
        }
      },
      "source": [
        "#Con formato con el operdor f\"\"\n",
        "\n",
        "print (f\"Su nombre es {nombre} y su edad es de {edad} años.\")"
      ],
      "execution_count": 35,
      "outputs": [
        {
          "output_type": "stream",
          "text": [
            "Su nombre es Victor y su edad es de 19 años.\n"
          ],
          "name": "stdout"
        }
      ]
    },
    {
      "cell_type": "markdown",
      "metadata": {
        "id": "2UY6tgV6CWK3"
      },
      "source": [
        "#Carácter de Escape\n",
        "\\n salto de linea \n",
        "\n",
        "\\t tabulador \n",
        "\n",
        "\\a beep\n",
        "\n",
        "\\\\\" imprimir comilla doble\n",
        "\n",
        "\\\\' imprimir comilla simple \n"
      ]
    },
    {
      "cell_type": "code",
      "metadata": {
        "id": "ooFeOre3DKls",
        "outputId": "cb06ac31-f132-4650-f993-2ac080685f15",
        "colab": {
          "base_uri": "https://localhost:8080/",
          "height": 51
        }
      },
      "source": [
        "\"\"\"\n",
        "Esto es un \n",
        "comentario de multiple \n",
        "linea\n",
        "\"\"\"\n",
        "print(f\"\\tMi nombre es\\n\\t\\t {nombre}\" )"
      ],
      "execution_count": 36,
      "outputs": [
        {
          "output_type": "stream",
          "text": [
            "\tMi nombre es\n",
            "\t\t Victor\n"
          ],
          "name": "stdout"
        }
      ]
    },
    {
      "cell_type": "markdown",
      "metadata": {
        "id": "2_q3R-OADoy9"
      },
      "source": [
        "# Ayuda de Tipos de Datos en python\n",
        "dir()\n",
        "\n",
        "help()"
      ]
    },
    {
      "cell_type": "code",
      "metadata": {
        "id": "IdGbEZnAELee"
      },
      "source": [
        "# str, int, float, bool ... list, dict, set\n",
        "\n",
        "help(str)"
      ],
      "execution_count": null,
      "outputs": []
    },
    {
      "cell_type": "code",
      "metadata": {
        "id": "AKQQdXkfFNso",
        "outputId": "d9ef0b78-3a2c-4553-ec31-65a0d12d610e",
        "colab": {
          "base_uri": "https://localhost:8080/",
          "height": 51
        }
      },
      "source": [
        "print(nombreCompleto.capitalize() )\n",
        "print(nombreCompleto.upper() , end=\"------\")\n",
        "print(nombreCompleto.title() )"
      ],
      "execution_count": 38,
      "outputs": [
        {
          "output_type": "stream",
          "text": [
            "Victor alva\n",
            "VICTOR ALVA------Victor Alva\n"
          ],
          "name": "stdout"
        }
      ]
    },
    {
      "cell_type": "markdown",
      "metadata": {
        "id": "M66knlnrGq6F"
      },
      "source": [
        "# Clase String\n",
        "Es manejada como un arreglo (c o java) o lista (python)\n",
        "\n",
        "'telefono = \"Huawei Mate 30 pro\"'"
      ]
    },
    {
      "cell_type": "code",
      "metadata": {
        "id": "O48npbu5H4-Z",
        "outputId": "6a70c131-f0f0-4695-c758-4cc7b038648f",
        "colab": {
          "base_uri": "https://localhost:8080/",
          "height": 34
        }
      },
      "source": [
        "telefono = \"Huawei Mate 30 pro\"\n",
        "print(telefono[5])"
      ],
      "execution_count": 39,
      "outputs": [
        {
          "output_type": "stream",
          "text": [
            "i\n"
          ],
          "name": "stdout"
        }
      ]
    },
    {
      "cell_type": "markdown",
      "metadata": {
        "id": "j-4NwtfjIdQm"
      },
      "source": [
        "#Slicing (rebanado)\n",
        "[ini:stop:incremento] nota: El stop no se incluye, termina en el valor anterior al stop"
      ]
    },
    {
      "cell_type": "code",
      "metadata": {
        "id": "wYHBb-t3I-dI",
        "outputId": "a78fb896-16c1-49df-aed3-9fd2d9bcedb5",
        "colab": {
          "base_uri": "https://localhost:8080/",
          "height": 102
        }
      },
      "source": [
        "print(telefono[7:11:1])\n",
        "# el inicio y el incremento son opcionales\n",
        "print(telefono[:11:])\n",
        "# El valor por defecto de stop \n",
        "print(telefono[::])\n",
        "# Incremento negativo\n",
        "print(telefono[::-1])\n",
        "#\n",
        "print(telefono[-3::1])"
      ],
      "execution_count": 42,
      "outputs": [
        {
          "output_type": "stream",
          "text": [
            "Mate\n",
            "Huawei Mate\n",
            "Huawei Mate 30 pro\n",
            "orp 03 etaM iewauH\n",
            "pro\n"
          ],
          "name": "stdout"
        }
      ]
    },
    {
      "cell_type": "markdown",
      "metadata": {
        "id": "vp19DGW7NnM-"
      },
      "source": [
        "#Método de String (str)\n",
        "\n",
        "Existen métodos muy utiles en esta clase\n"
      ]
    },
    {
      "cell_type": "code",
      "metadata": {
        "id": "QMrmGD98Ny_v",
        "outputId": "ed3e5795-b21c-4018-b450-ee6a3c2c710b",
        "colab": {
          "base_uri": "https://localhost:8080/",
          "height": 306
        }
      },
      "source": [
        "facultad = \"    facultad de estudios superiores aragón     \\n\"\n",
        "print(facultad)\n",
        "print(facultad.count(\"f\") ) #Cuenta los caractereres con coincidencia\n",
        "print(facultad.find(\"s\") ) #Muestra la pocision de la primera coincidencia\n",
        "print(facultad.strip() )#quita los espacios al inicio\n",
        "tamaño = len(facultad) #Cuenta todos los carecteres\n",
        "print(f\"El tamaño de la cadena es: {tamaño} caracteres\")\n",
        "print(facultad.split(\"t\"))\n",
        "print(facultad.strip().split())\n",
        "\n",
        "\n",
        "print(\"----------------------------\")\n",
        "#Copiar cadenas\n",
        "otraCadena = facultad\n",
        "print(otraCadena)\n",
        "otraCadena = \"FES Aragón\"\n",
        "print(facultad)\n",
        "print(otraCadena)\n",
        "\n",
        "#Copiar listas\n",
        "colores = [\"rojo\", \"verde\"]\n",
        "otra = colores.copy()\n",
        "print(colores)\n",
        "otra.append(\"rosa\")\n",
        "print(colores)\n",
        "print(otra)"
      ],
      "execution_count": 65,
      "outputs": [
        {
          "output_type": "stream",
          "text": [
            "    facultad de estudios superiores aragón     \n",
            "\n",
            "1\n",
            "17\n",
            "facultad de estudios superiores aragón\n",
            "El tamaño de la cadena es: 48 caracteres\n",
            "['    facul', 'ad de es', 'udios superiores aragón     \\n']\n",
            "['facultad', 'de', 'estudios', 'superiores', 'aragón']\n",
            "----------------------------\n",
            "    facultad de estudios superiores aragón     \n",
            "\n",
            "    facultad de estudios superiores aragón     \n",
            "\n",
            "FES Aragón\n",
            "['rojo', 'verde']\n",
            "['rojo', 'verde']\n",
            "['rojo', 'verde', 'rosa']\n"
          ],
          "name": "stdout"
        }
      ]
    }
  ]
}