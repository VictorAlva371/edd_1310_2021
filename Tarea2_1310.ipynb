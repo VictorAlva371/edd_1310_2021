{
  "nbformat": 4,
  "nbformat_minor": 0,
  "metadata": {
    "colab": {
      "name": "Tarea2_1310.ipynb",
      "provenance": [],
      "authorship_tag": "ABX9TyNO3C9UDLHF4bE0MKBu8dMu",
      "include_colab_link": true
    },
    "kernelspec": {
      "name": "python3",
      "display_name": "Python 3"
    }
  },
  "cells": [
    {
      "cell_type": "markdown",
      "metadata": {
        "id": "view-in-github",
        "colab_type": "text"
      },
      "source": [
        "<a href=\"https://colab.research.google.com/github/VictorAlva371/edd_1310_2021/blob/master/Tarea2_1310.ipynb\" target=\"_parent\"><img src=\"https://colab.research.google.com/assets/colab-badge.svg\" alt=\"Open In Colab\"/></a>"
      ]
    },
    {
      "cell_type": "code",
      "metadata": {
        "id": "3J6k13HKMC0C",
        "outputId": "4911d1bd-012c-4395-8271-0acd75e81fa8",
        "colab": {
          "base_uri": "https://localhost:8080/",
          "height": 204
        }
      },
      "source": [
        "archivo = open('Datos.txt', 'rt')\n",
        "total = 0\n",
        "numRenglon = 0\n",
        "for i in archivo.readlines():\n",
        "  sumaRenglon = 0\n",
        "  for j in i.strip().split(\",\"):\n",
        "    j.replace('','')\n",
        "    sumaRenglon += int(j)\n",
        "  total += sumaRenglon\n",
        "  numRenglon += 1\n",
        "  print(f\"La suma del renglón {numRenglon} es de: {sumaRenglon}\")\n",
        "print(f\"La suma total de todos los renglones es: {total}\")\n",
        "\n",
        "\n",
        "archivo.close()\n"
      ],
      "execution_count": 22,
      "outputs": [
        {
          "output_type": "stream",
          "text": [
            "La suma del renglón 1 es de: 406\n",
            "La suma del renglón 2 es de: 367\n",
            "La suma del renglón 3 es de: 814\n",
            "La suma del renglón 4 es de: 418\n",
            "La suma del renglón 5 es de: 786\n",
            "La suma del renglón 6 es de: 513\n",
            "La suma del renglón 7 es de: 745\n",
            "La suma del renglón 8 es de: 585\n",
            "La suma del renglón 9 es de: 154\n",
            "La suma del renglón 10 es de: 220\n",
            "La suma total de todos los renglones es: 5008\n"
          ],
          "name": "stdout"
        }
      ]
    }
  ]
}